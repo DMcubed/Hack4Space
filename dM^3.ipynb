{
 "cells": [
  {
   "cell_type": "code",
   "execution_count": 83,
   "metadata": {
    "collapsed": false
   },
   "outputs": [],
   "source": [
    "USERNAME = \"DM3\"\n",
    "PASSWORD = \"DPHACK\"\n",
    "MDSS_SSID=\"AZK1\"\n",
    "DB2_SSID=\"DBBG\"\n",
    "\n",
    "#data['Annual CO2 emissions'].plot(kind='hist')\n",
    "\n",
    "import matplotlib.pyplot as plt\n",
    "import pandas as pd\n",
    "#import seaborn as sns\n",
    "% matplotlib inline"
   ]
  },
  {
   "cell_type": "code",
   "execution_count": 84,
   "metadata": {
    "collapsed": false
   },
   "outputs": [
    {
     "name": "stdout",
     "output_type": "stream",
     "text": [
      "['annual-co2-emissions-per-country.csv', 'owid-co2-data.csv', 'AnnualCO2.csv', 'ocean-acidity_fig-1_clean.csv', 'ocean-acidity_fig-1_clean2.csv', 'ocean-acidity_fig-1_clean3.csv', 'OceanPH.csv']\n"
     ]
    }
   ],
   "source": [
    "import glob\n",
    "print(glob.glob(\"*.csv\"))"
   ]
  },
  {
   "cell_type": "code",
   "execution_count": 85,
   "metadata": {
    "collapsed": false
   },
   "outputs": [
    {
     "name": "stdout",
     "output_type": "stream",
     "text": [
      "['annual-co2-emissions-per-country.csv']\n"
     ]
    }
   ],
   "source": [
    "print(glob.glob(\"annual-co2-emissions-per-country.csv\"))"
   ]
  },
  {
   "cell_type": "code",
   "execution_count": 86,
   "metadata": {
    "collapsed": false
   },
   "outputs": [],
   "source": [
    "data = pd.read_csv('annual-co2-emissions-per-country.csv')"
   ]
  },
  {
   "cell_type": "code",
   "execution_count": 87,
   "metadata": {
    "collapsed": false
   },
   "outputs": [
    {
     "data": {
      "text/html": [
       "<div>\n",
       "<table border=\"1\" class=\"dataframe\">\n",
       "  <thead>\n",
       "    <tr style=\"text-align: right;\">\n",
       "      <th></th>\n",
       "      <th>Entity</th>\n",
       "      <th>Code</th>\n",
       "      <th>Year</th>\n",
       "      <th>Annual CO2 emissions</th>\n",
       "    </tr>\n",
       "  </thead>\n",
       "  <tbody>\n",
       "    <tr>\n",
       "      <th>0</th>\n",
       "      <td>Afghanistan</td>\n",
       "      <td>AFG</td>\n",
       "      <td>1949</td>\n",
       "      <td>0.014656</td>\n",
       "    </tr>\n",
       "    <tr>\n",
       "      <th>1</th>\n",
       "      <td>Afghanistan</td>\n",
       "      <td>AFG</td>\n",
       "      <td>1950</td>\n",
       "      <td>0.084272</td>\n",
       "    </tr>\n",
       "    <tr>\n",
       "      <th>2</th>\n",
       "      <td>Afghanistan</td>\n",
       "      <td>AFG</td>\n",
       "      <td>1951</td>\n",
       "      <td>0.091600</td>\n",
       "    </tr>\n",
       "    <tr>\n",
       "      <th>3</th>\n",
       "      <td>Afghanistan</td>\n",
       "      <td>AFG</td>\n",
       "      <td>1952</td>\n",
       "      <td>0.091600</td>\n",
       "    </tr>\n",
       "    <tr>\n",
       "      <th>4</th>\n",
       "      <td>Afghanistan</td>\n",
       "      <td>AFG</td>\n",
       "      <td>1953</td>\n",
       "      <td>0.106256</td>\n",
       "    </tr>\n",
       "  </tbody>\n",
       "</table>\n",
       "</div>"
      ],
      "text/plain": [
       "        Entity Code  Year  Annual CO2 emissions\n",
       "0  Afghanistan  AFG  1949              0.014656\n",
       "1  Afghanistan  AFG  1950              0.084272\n",
       "2  Afghanistan  AFG  1951              0.091600\n",
       "3  Afghanistan  AFG  1952              0.091600\n",
       "4  Afghanistan  AFG  1953              0.106256"
      ]
     },
     "execution_count": 87,
     "metadata": {},
     "output_type": "execute_result"
    }
   ],
   "source": [
    "data.head(5)"
   ]
  },
  {
   "cell_type": "code",
   "execution_count": 88,
   "metadata": {
    "collapsed": false
   },
   "outputs": [
    {
     "name": "stdout",
     "output_type": "stream",
     "text": [
      "Index(['Entity', 'Year', 'Annual CO2 emissions'], dtype='object')\n"
     ]
    }
   ],
   "source": [
    "a = data.columns[0::2] \n",
    "b = data.columns[3::4]\n",
    "\n",
    "c = a.append(b)\n",
    "\n",
    "print(c)\n"
   ]
  },
  {
   "cell_type": "code",
   "execution_count": 89,
   "metadata": {
    "collapsed": false
   },
   "outputs": [
    {
     "data": {
      "text/plain": [
       "Entity                   object\n",
       "Code                     object\n",
       "Year                      int64\n",
       "Annual CO2 emissions    float64\n",
       "dtype: object"
      ]
     },
     "execution_count": 89,
     "metadata": {},
     "output_type": "execute_result"
    }
   ],
   "source": [
    "data.dtypes"
   ]
  },
  {
   "cell_type": "code",
   "execution_count": 90,
   "metadata": {
    "collapsed": false
   },
   "outputs": [
    {
     "name": "stdout",
     "output_type": "stream",
     "text": [
      "<class 'pandas.core.frame.DataFrame'>\n",
      "RangeIndex: 23372 entries, 0 to 23371\n",
      "Data columns (total 4 columns):\n",
      "Entity                  23372 non-null object\n",
      "Code                    19244 non-null object\n",
      "Year                    23372 non-null int64\n",
      "Annual CO2 emissions    23372 non-null float64\n",
      "dtypes: float64(1), int64(1), object(2)\n",
      "memory usage: 730.5+ KB\n"
     ]
    }
   ],
   "source": [
    "data.info()"
   ]
  },
  {
   "cell_type": "code",
   "execution_count": 91,
   "metadata": {
    "collapsed": false
   },
   "outputs": [
    {
     "data": {
      "text/plain": [
       "<matplotlib.axes._subplots.AxesSubplot at 0x5053608fd0>"
      ]
     },
     "execution_count": 91,
     "metadata": {},
     "output_type": "execute_result"
    },
    {
     "data": {
      "image/png": "[encoded data removed]",
      "text/plain": [
       "<matplotlib.figure.Figure at 0x5052425748>"
      ]
     },
     "metadata": {},
     "output_type": "display_data"
    }
   ],
   "source": [
    "data[a].plot(kind='hist')"
   ]
  },
  {
   "cell_type": "code",
   "execution_count": 92,
   "metadata": {
    "collapsed": false
   },
   "outputs": [
    {
     "data": {
      "image/png": "[encoded data removed]",
      "text/plain": [
       "<matplotlib.figure.Figure at 0x5053654c88>"
      ]
     },
     "metadata": {},
     "output_type": "display_data"
    }
   ],
   "source": [
    "data[a].plot(kind='hist')\n",
    "plt.xlabel(\"Year\", labelpad=14)\n",
    "plt.ylabel(\"Annual CO2 emissions\", labelpad=14)\n",
    "plt.title(\"Annual CO2 emissions per year\", y=1.015, fontsize=22);\n",
    "# Data from: https://ourworldindata.org/grapher/annual-co2-emissions-per-country"
   ]
  },
  {
   "cell_type": "code",
   "execution_count": 93,
   "metadata": {
    "collapsed": false
   },
   "outputs": [
    {
     "name": "stdout",
     "output_type": "stream",
     "text": [
      "['ocean-acidity_fig-1_clean3.csv']\n"
     ]
    }
   ],
   "source": [
    "print(glob.glob(\"ocean-acidity_fig-1_clean3.csv\"))"
   ]
  },
  {
   "cell_type": "code",
   "execution_count": 94,
   "metadata": {
    "collapsed": true
   },
   "outputs": [],
   "source": [
    "data_ocean = pd.read_csv('ocean-acidity_fig-1_clean3.csv')"
   ]
  },
  {
   "cell_type": "code",
   "execution_count": 95,
   "metadata": {
    "collapsed": false
   },
   "outputs": [
    {
     "data": {
      "text/html": [
       "<div>\n",
       "<table border=\"1\" class=\"dataframe\">\n",
       "  <thead>\n",
       "    <tr style=\"text-align: right;\">\n",
       "      <th></th>\n",
       "      <th>Hawaii Year</th>\n",
       "      <th>Hawaii Year (Rounded)</th>\n",
       "      <th>Hawaii pH</th>\n",
       "      <th>Hawaii pCO2</th>\n",
       "      <th>Canary Islands Year</th>\n",
       "      <th>Canary Islands Year (Rounded)</th>\n",
       "      <th>Canary Islands pH</th>\n",
       "      <th>Canary Islands pCO2</th>\n",
       "      <th>Bermuda Year</th>\n",
       "      <th>Bermuda Year (Rounded)</th>\n",
       "      <th>Bermuda pH</th>\n",
       "      <th>Bermuda pCO2</th>\n",
       "    </tr>\n",
       "  </thead>\n",
       "  <tbody>\n",
       "    <tr>\n",
       "      <th>0</th>\n",
       "      <td>1988.833333</td>\n",
       "      <td>1989.0</td>\n",
       "      <td>8.1097</td>\n",
       "      <td>330.9</td>\n",
       "      <td>1995.7507</td>\n",
       "      <td>1996.0</td>\n",
       "      <td>8.0765</td>\n",
       "      <td>377.6526</td>\n",
       "      <td>1983.6959</td>\n",
       "      <td>1984</td>\n",
       "      <td>8.070</td>\n",
       "      <td>363.187</td>\n",
       "    </tr>\n",
       "    <tr>\n",
       "      <th>1</th>\n",
       "      <td>1988.920765</td>\n",
       "      <td>1989.0</td>\n",
       "      <td>8.1092</td>\n",
       "      <td>330.6</td>\n",
       "      <td>1995.7562</td>\n",
       "      <td>1996.0</td>\n",
       "      <td>8.0743</td>\n",
       "      <td>380.0385</td>\n",
       "      <td>1983.7726</td>\n",
       "      <td>1984</td>\n",
       "      <td>8.088</td>\n",
       "      <td>343.941</td>\n",
       "    </tr>\n",
       "    <tr>\n",
       "      <th>2</th>\n",
       "      <td>1989.021918</td>\n",
       "      <td>1989.0</td>\n",
       "      <td>8.1168</td>\n",
       "      <td>324.3</td>\n",
       "      <td>1995.7644</td>\n",
       "      <td>1996.0</td>\n",
       "      <td>8.0713</td>\n",
       "      <td>383.1138</td>\n",
       "      <td>1984.0712</td>\n",
       "      <td>1984</td>\n",
       "      <td>8.146</td>\n",
       "      <td>299.199</td>\n",
       "    </tr>\n",
       "    <tr>\n",
       "      <th>3</th>\n",
       "      <td>1989.156164</td>\n",
       "      <td>1989.0</td>\n",
       "      <td>8.1316</td>\n",
       "      <td>310.9</td>\n",
       "      <td>1995.9014</td>\n",
       "      <td>1996.0</td>\n",
       "      <td>8.0837</td>\n",
       "      <td>370.4347</td>\n",
       "      <td>1984.1836</td>\n",
       "      <td>1984</td>\n",
       "      <td>8.145</td>\n",
       "      <td>301.419</td>\n",
       "    </tr>\n",
       "    <tr>\n",
       "      <th>4</th>\n",
       "      <td>1989.235616</td>\n",
       "      <td>1989.0</td>\n",
       "      <td>8.1218</td>\n",
       "      <td>317.7</td>\n",
       "      <td>1996.0656</td>\n",
       "      <td>1996.0</td>\n",
       "      <td>8.1117</td>\n",
       "      <td>343.0605</td>\n",
       "      <td>1984.3260</td>\n",
       "      <td>1984</td>\n",
       "      <td>8.144</td>\n",
       "      <td>302.309</td>\n",
       "    </tr>\n",
       "    <tr>\n",
       "      <th>5</th>\n",
       "      <td>1989.378082</td>\n",
       "      <td>1989.0</td>\n",
       "      <td>8.1158</td>\n",
       "      <td>326.2</td>\n",
       "      <td>1996.0956</td>\n",
       "      <td>1996.0</td>\n",
       "      <td>8.1117</td>\n",
       "      <td>343.7156</td>\n",
       "      <td>1984.4877</td>\n",
       "      <td>1984</td>\n",
       "      <td>8.112</td>\n",
       "      <td>327.279</td>\n",
       "    </tr>\n",
       "    <tr>\n",
       "      <th>6</th>\n",
       "      <td>1989.479452</td>\n",
       "      <td>1989.0</td>\n",
       "      <td>8.1018</td>\n",
       "      <td>334.3</td>\n",
       "      <td>1996.1038</td>\n",
       "      <td>1996.0</td>\n",
       "      <td>8.1149</td>\n",
       "      <td>340.4320</td>\n",
       "      <td>1984.5589</td>\n",
       "      <td>1985</td>\n",
       "      <td>8.031</td>\n",
       "      <td>406.914</td>\n",
       "    </tr>\n",
       "    <tr>\n",
       "      <th>7</th>\n",
       "      <td>1989.575342</td>\n",
       "      <td>1990.0</td>\n",
       "      <td>8.0991</td>\n",
       "      <td>340.4</td>\n",
       "      <td>1996.2049</td>\n",
       "      <td>1996.0</td>\n",
       "      <td>8.1254</td>\n",
       "      <td>330.2408</td>\n",
       "      <td>1984.6219</td>\n",
       "      <td>1985</td>\n",
       "      <td>8.038</td>\n",
       "      <td>397.747</td>\n",
       "    </tr>\n",
       "    <tr>\n",
       "      <th>8</th>\n",
       "      <td>1989.646575</td>\n",
       "      <td>1990.0</td>\n",
       "      <td>8.0930</td>\n",
       "      <td>343.8</td>\n",
       "      <td>1996.3142</td>\n",
       "      <td>1996.0</td>\n",
       "      <td>8.1082</td>\n",
       "      <td>347.1527</td>\n",
       "      <td>1984.6932</td>\n",
       "      <td>1985</td>\n",
       "      <td>8.086</td>\n",
       "      <td>350.505</td>\n",
       "    </tr>\n",
       "    <tr>\n",
       "      <th>9</th>\n",
       "      <td>1989.726027</td>\n",
       "      <td>1990.0</td>\n",
       "      <td>8.0990</td>\n",
       "      <td>337.8</td>\n",
       "      <td>1996.3716</td>\n",
       "      <td>1996.0</td>\n",
       "      <td>8.1013</td>\n",
       "      <td>354.1248</td>\n",
       "      <td>1984.7534</td>\n",
       "      <td>1985</td>\n",
       "      <td>8.091</td>\n",
       "      <td>346.313</td>\n",
       "    </tr>\n",
       "  </tbody>\n",
       "</table>\n",
       "</div>"
      ],
      "text/plain": [
       "   Hawaii Year  Hawaii Year (Rounded)  Hawaii pH  Hawaii pCO2  \\\n",
       "0  1988.833333                 1989.0     8.1097        330.9   \n",
       "1  1988.920765                 1989.0     8.1092        330.6   \n",
       "2  1989.021918                 1989.0     8.1168        324.3   \n",
       "3  1989.156164                 1989.0     8.1316        310.9   \n",
       "4  1989.235616                 1989.0     8.1218        317.7   \n",
       "5  1989.378082                 1989.0     8.1158        326.2   \n",
       "6  1989.479452                 1989.0     8.1018        334.3   \n",
       "7  1989.575342                 1990.0     8.0991        340.4   \n",
       "8  1989.646575                 1990.0     8.0930        343.8   \n",
       "9  1989.726027                 1990.0     8.0990        337.8   \n",
       "\n",
       "   Canary Islands Year  Canary Islands Year (Rounded)  Canary Islands pH  \\\n",
       "0            1995.7507                         1996.0             8.0765   \n",
       "1            1995.7562                         1996.0             8.0743   \n",
       "2            1995.7644                         1996.0             8.0713   \n",
       "3            1995.9014                         1996.0             8.0837   \n",
       "4            1996.0656                         1996.0             8.1117   \n",
       "5            1996.0956                         1996.0             8.1117   \n",
       "6            1996.1038                         1996.0             8.1149   \n",
       "7            1996.2049                         1996.0             8.1254   \n",
       "8            1996.3142                         1996.0             8.1082   \n",
       "9            1996.3716                         1996.0             8.1013   \n",
       "\n",
       "   Canary Islands pCO2  Bermuda Year  Bermuda Year (Rounded)  Bermuda pH  \\\n",
       "0             377.6526     1983.6959                    1984       8.070   \n",
       "1             380.0385     1983.7726                    1984       8.088   \n",
       "2             383.1138     1984.0712                    1984       8.146   \n",
       "3             370.4347     1984.1836                    1984       8.145   \n",
       "4             343.0605     1984.3260                    1984       8.144   \n",
       "5             343.7156     1984.4877                    1984       8.112   \n",
       "6             340.4320     1984.5589                    1985       8.031   \n",
       "7             330.2408     1984.6219                    1985       8.038   \n",
       "8             347.1527     1984.6932                    1985       8.086   \n",
       "9             354.1248     1984.7534                    1985       8.091   \n",
       "\n",
       "   Bermuda pCO2  \n",
       "0       363.187  \n",
       "1       343.941  \n",
       "2       299.199  \n",
       "3       301.419  \n",
       "4       302.309  \n",
       "5       327.279  \n",
       "6       406.914  \n",
       "7       397.747  \n",
       "8       350.505  \n",
       "9       346.313  "
      ]
     },
     "execution_count": 95,
     "metadata": {},
     "output_type": "execute_result"
    }
   ],
   "source": [
    "data_ocean.head(10)"
   ]
  },
  {
   "cell_type": "code",
   "execution_count": 96,
   "metadata": {
    "collapsed": false
   },
   "outputs": [
    {
     "name": "stdout",
     "output_type": "stream",
     "text": [
      "['Hawaii Year (Rounded)', 'Hawaii pH', 'Canary Islands Year (Rounded)', 'Canary Islands pH', 'Bermuda Year (Rounded)', 'Bermuda pH']\n"
     ]
    }
   ],
   "source": [
    "HawaiiA = data_ocean.columns[1]\n",
    "HawaiiB = data_ocean.columns[2]\n",
    "#HawaiiC = data_ocean.columns[3]\n",
    "\n",
    "HawaiiD = data_ocean.columns[5]\n",
    "HawaiiE = data_ocean.columns[6]\n",
    "#HawaiiF = data_ocean.columns[7]\n",
    "\n",
    "HawaiiG = data_ocean.columns[9]\n",
    "HawaiiH = data_ocean.columns[10]\n",
    "#HawaiiI = data_ocean.columns[11]\n",
    "\n",
    "Hawaii = [HawaiiA, HawaiiB, HawaiiD, HawaiiE, HawaiiG, HawaiiH]\n",
    "\n",
    "print(Hawaii)"
   ]
  },
  {
   "cell_type": "code",
   "execution_count": 97,
   "metadata": {
    "collapsed": false
   },
   "outputs": [
    {
     "data": {
      "text/plain": [
       "<matplotlib.axes._subplots.AxesSubplot at 0x5053608470>"
      ]
     },
     "execution_count": 97,
     "metadata": {},
     "output_type": "execute_result"
    },
    {
     "data": {
      "image/png": "[encoded data removed]",
      "text/plain": [
       "<matplotlib.figure.Figure at 0x50536142b0>"
      ]
     },
     "metadata": {},
     "output_type": "display_data"
    }
   ],
   "source": [
    "data_ocean.plot(kind='hist')"
   ]
  },
  {
   "cell_type": "code",
   "execution_count": null,
   "metadata": {
    "collapsed": true
   },
   "outputs": [],
   "source": []
  }
 ],
 "metadata": {
  "kernelspec": {
   "display_name": "Python 3",
   "language": "python",
   "name": "python3"
  },
  "language_info": {
   "codemirror_mode": {
    "name": "ipython",
    "version": 3
   },
   "file_extension": ".py",
   "mimetype": "text/x-python",
   "name": "python",
   "nbconvert_exporter": "python",
   "pygments_lexer": "ipython3",
   "version": "3.6.1"
  }
 },
 "nbformat": 4,
 "nbformat_minor": 2
}
